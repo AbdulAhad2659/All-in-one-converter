{
 "cells": [
  {
   "cell_type": "markdown",
   "id": "9623e929",
   "metadata": {},
   "source": [
    "# Remove background from images"
   ]
  },
  {
   "cell_type": "code",
   "execution_count": 14,
   "id": "6492a0d4",
   "metadata": {},
   "outputs": [
    {
     "name": "stdout",
     "output_type": "stream",
     "text": [
      "Foreground image saved to: C:/Users/Ahad/Desktop\\lol_foreground.jpg\n"
     ]
    }
   ],
   "source": [
    "import cv2\n",
    "import os\n",
    "import matplotlib.pyplot as plt\n",
    "import tkinter as tk\n",
    "from tkinter import filedialog\n",
    "\n",
    "def remove_background():\n",
    "    root = tk.Tk()\n",
    "    root.withdraw()\n",
    "    \n",
    "    # Open file dialog to select image file\n",
    "    file_path = filedialog.askopenfilename()\n",
    "    # Read the image\n",
    "    img = cv2.imread(file_path)\n",
    "    \n",
    "    # Convert image to grayscale\n",
    "    gray = cv2.cvtColor(img, cv2.COLOR_BGR2GRAY)\n",
    "    \n",
    "    # Apply thresholding to extract the foreground\n",
    "    # object (the hand)\n",
    "    ret, thresh = cv2.threshold(gray, 0, 255, cv2.THRESH_BINARY + cv2.THRESH_OTSU)\n",
    "    \n",
    "    # Remove the background\n",
    "    foreground = cv2.bitwise_and(img, img, mask=thresh)\n",
    "    \n",
    "    # Get the file name and directory of the original image\n",
    "    file_name, file_extension = os.path.splitext(os.path.basename(file_path))\n",
    "    directory = os.path.dirname(file_path)\n",
    "    \n",
    "    # Save the foreground image in the same directory\n",
    "    output_path = os.path.join(directory, file_name + \"_foreground\" + file_extension)\n",
    "    cv2.imwrite(output_path, foreground)\n",
    "    print(\"Foreground image saved to: \" + output_path)\n",
    "    \n",
    "remove_background()"
   ]
  },
  {
   "cell_type": "markdown",
   "id": "2a60d4c1",
   "metadata": {},
   "source": [
    "# Merge PDF files"
   ]
  },
  {
   "cell_type": "code",
   "execution_count": 25,
   "id": "02ab1d54",
   "metadata": {},
   "outputs": [
    {
     "name": "stdout",
     "output_type": "stream",
     "text": [
      "No files selected\n"
     ]
    }
   ],
   "source": [
    "import os\n",
    "from PyPDF2 import PdfFileMerger\n",
    "from tkinter import filedialog\n",
    "\n",
    "def merge_pdfs(output_file):\n",
    "    root = tk.Tk()\n",
    "    root.withdraw()\n",
    "    \n",
    "    #Select all the pdf files in the dialog to merge\n",
    "    pdf_files = filedialog.askopenfilenames(title = \"Select PDF files\", filetypes = ((\"PDF files\", \"*.pdf\"), (\"all files\", \"*.*\")))\n",
    "    \n",
    "    if len(pdf_files) == 0:\n",
    "        print(\"No files selected\")\n",
    "        \n",
    "    else:\n",
    "        # Create a pdf merger object\n",
    "        merger = PdfFileMerger()\n",
    "\n",
    "        # Iterate through all pdf files\n",
    "        for pdf_file in pdf_files:\n",
    "            \n",
    "            # Open each pdf file\n",
    "            with open(pdf_file, 'rb') as file:\n",
    "                \n",
    "                # Add the pdf file to the merger\n",
    "                merger.append(file)\n",
    "\n",
    "        # Write the merged pdf to the output file\n",
    "        with open(output_file, 'wb') as file:\n",
    "            merger.write(file)\n",
    "            \n",
    "        merger.close()\n",
    "        print(f\"PDFs merged successfully and saved as {output_file}\")\n",
    "        \n",
    "output_file = output_file = r'C:\\Users\\Ahad\\Desktop\\merged_pdf.pdf'\n",
    "merge_pdfs(output_file)"
   ]
  },
  {
   "cell_type": "markdown",
   "id": "8db9c7b7",
   "metadata": {},
   "source": [
    "# PDF to JPG"
   ]
  },
  {
   "cell_type": "code",
   "execution_count": 5,
   "id": "02805a4a",
   "metadata": {},
   "outputs": [],
   "source": [
    "from pdf2image import convert_from_path\n",
    "import tkinter as tk\n",
    "from tkinter import filedialog\n",
    "import os\n",
    "import fitz"
   ]
  },
  {
   "cell_type": "code",
   "execution_count": 6,
   "id": "b606dcdb",
   "metadata": {},
   "outputs": [
    {
     "name": "stdout",
     "output_type": "stream",
     "text": [
      "PDF C:/Users/Ahad/Desktop/Abdul_Ahad.pdf converted to jpeg and saved at C:/Users/Ahad/Desktop\n"
     ]
    }
   ],
   "source": [
    "def pdf_to_jpg():\n",
    "    root = tk.Tk()\n",
    "    root.withdraw()\n",
    "    pdf_file = filedialog.askopenfilename(title = \"Select PDF file\", filetypes = ((\"PDF files\", \"*.pdf\"), (\"all files\", \"*.*\")))\n",
    "    \n",
    "    if pdf_file == '':\n",
    "        print(\"No file selected\")\n",
    "        \n",
    "    else:\n",
    "        folder_path = filedialog.askdirectory(title = \"Select output folder\")\n",
    "        \n",
    "        if folder_path == '':\n",
    "            print(\"No folder selected\")\n",
    "            \n",
    "        else:\n",
    "            doc = fitz.open(pdf_file)\n",
    "            \n",
    "            for i in range(doc.page_count):\n",
    "                page = doc[i]\n",
    "                pix = page.get_pixmap()\n",
    "                output = f'{folder_path}/page_{i}.jpg'\n",
    "                pix.save(output)\n",
    "                \n",
    "            print(f\"PDF {pdf_file} converted to jpeg and saved at {folder_path}\")\n",
    "                    \n",
    "pdf_to_jpg()"
   ]
  },
  {
   "cell_type": "markdown",
   "id": "9e06a024",
   "metadata": {},
   "source": [
    "# JPG to PDF"
   ]
  },
  {
   "cell_type": "code",
   "execution_count": 7,
   "id": "afd83a24",
   "metadata": {},
   "outputs": [],
   "source": [
    "import tkinter as tk\n",
    "from PIL import Image\n",
    "from tkinter import filedialog"
   ]
  },
  {
   "cell_type": "code",
   "execution_count": 8,
   "id": "9287d25b",
   "metadata": {},
   "outputs": [
    {
     "name": "stdout",
     "output_type": "stream",
     "text": [
      "Image C:/Users/Ahad/Desktop/lol.png converted to pdf and saved as C:/Users/Ahad/Desktop/plew.pdf\n"
     ]
    }
   ],
   "source": [
    "def image_to_pdf():\n",
    "    root = tk.Tk()\n",
    "    root.withdraw()\n",
    "    image_file = filedialog.askopenfilename(title = \"Select image file\", filetypes = ((\"image files\", \"*.jpg;*.png;*.jpeg\"), (\"all files\", \"*.*\")))\n",
    "    \n",
    "    if image_file == '':\n",
    "        print(\"No file selected\")\n",
    "        \n",
    "    else:\n",
    "        pdf_file = filedialog.asksaveasfilename(title = \"Save as\",defaultextension='.pdf',filetypes = ((\"pdf files\", \"*.pdf\"), (\"all files\", \"*.*\")))\n",
    "        \n",
    "        if pdf_file =='':\n",
    "            print(\"No file selected\")\n",
    "            \n",
    "        else:\n",
    "            # Open the image file\n",
    "            with Image.open(image_file) as image:\n",
    "                \n",
    "                # Create a pdf object\n",
    "                pdf = Image.new(\"RGB\", image.size, (255, 255, 255))\n",
    "                pdf.paste(image, (0, 0))\n",
    "                \n",
    "                # Save the pdf\n",
    "                pdf.save(pdf_file, \"PDF\", resolution = 100.0)\n",
    "                print(f\"Image {image_file} converted to pdf and saved as {pdf_file}\")\n",
    "                \n",
    "image_to_pdf()"
   ]
  },
  {
   "cell_type": "markdown",
   "id": "0505a9ad",
   "metadata": {},
   "source": [
    "# Compress PDF"
   ]
  },
  {
   "cell_type": "code",
   "execution_count": 1,
   "id": "4ba96c6b",
   "metadata": {},
   "outputs": [],
   "source": [
    "import PyPDF2\n",
    "import tkinter as tk\n",
    "from tkinter import filedialog"
   ]
  },
  {
   "cell_type": "code",
   "execution_count": 2,
   "id": "a8375ac5",
   "metadata": {},
   "outputs": [
    {
     "name": "stdout",
     "output_type": "stream",
     "text": [
      "PDF C:/Users/Ahad/Desktop/Abdul_Ahad.pdf is compressed and saved as C:/Users/Ahad/Desktop/plew.pdf\n"
     ]
    }
   ],
   "source": [
    "def compress_pdf():\n",
    "    root = tk.Tk()\n",
    "    root.withdraw()\n",
    "    pdf_file = filedialog.askopenfilename(title = \"Select PDF file\", filetypes = ((\"PDF files\", \"*.pdf\"), (\"all files\", \"*.*\")))\n",
    "    \n",
    "    if pdf_file == '':\n",
    "        print(\"No file selected\")\n",
    "        \n",
    "    else:\n",
    "        compressed_pdf_file = filedialog.asksaveasfilename(title = \"Save as\",defaultextension='.pdf',filetypes = ((\"pdf files\", \"*.pdf\"), (\"all files\", \"*.*\")))\n",
    "        \n",
    "        if compressed_pdf_file == '':\n",
    "            print(\"No file selected\")\n",
    "        \n",
    "        else:\n",
    "            # Open the pdf file\n",
    "            with open(pdf_file, 'rb') as file:\n",
    "                pdf_reader = PyPDF2.PdfFileReader(file)\n",
    "                pdf_writer = PyPDF2.PdfFileWriter()\n",
    "                \n",
    "                for page in range(pdf_reader.numPages):\n",
    "                    pdf_writer.addPage(pdf_reader.getPage(page))\n",
    "                pdf_writer.addMetadata({\n",
    "                    '/Title': 'compressed pdf',\n",
    "                    '/Author': 'User'\n",
    "                })\n",
    "                \n",
    "                with open(compressed_pdf_file, 'wb') as output:\n",
    "                    pdf_writer.write(output)\n",
    "                print(f\"PDF {pdf_file} is compressed and saved as {compressed_pdf_file}\")\n",
    "                \n",
    "compress_pdf()"
   ]
  },
  {
   "cell_type": "markdown",
   "id": "695abfed",
   "metadata": {},
   "source": [
    "# Split PDFs"
   ]
  },
  {
   "cell_type": "code",
   "execution_count": 3,
   "id": "de24109b",
   "metadata": {},
   "outputs": [],
   "source": [
    "import PyPDF2\n",
    "import tkinter as tk\n",
    "from tkinter import filedialog"
   ]
  },
  {
   "cell_type": "code",
   "execution_count": 5,
   "id": "1f3eb704",
   "metadata": {},
   "outputs": [
    {
     "name": "stdout",
     "output_type": "stream",
     "text": [
      "Enter the number of pages per split pdf file: 2\n",
      "PDF C:/Users/Ahad/Desktop/Abdul_Ahad.pdf is splitted and saved at C:/Users/Ahad/Desktop\n"
     ]
    }
   ],
   "source": [
    "def split_pdf():\n",
    "    root = tk.Tk()\n",
    "    root.withdraw()\n",
    "    pdf_file = filedialog.askopenfilename(title = \"Select PDF file\", filetypes = ((\"PDF files\", \"*.pdf\"), (\"all files\", \"*.*\")))\n",
    "    \n",
    "    if pdf_file =='':\n",
    "        print(\"No file selected\")\n",
    "    \n",
    "    else:\n",
    "        folder_path = filedialog.askdirectory(title = \"Select output folder\")\n",
    "        \n",
    "        if folder_path =='':\n",
    "            print(\"No folder selected\")\n",
    "        \n",
    "        else:\n",
    "            num_of_pages = int(input(\"Enter the number of pages per split pdf file: \"))\n",
    "            # Open the pdf file\n",
    "            with open(pdf_file, 'rb') as file:\n",
    "                pdf_reader = PyPDF2.PdfFileReader(file)\n",
    "                total_pages = pdf_reader.numPages\n",
    "                \n",
    "                for i in range(0, total_pages, num_of_pages):\n",
    "                    pdf_writer = PyPDF2.PdfFileWriter()\n",
    "                    \n",
    "                    for page in range(i, i + num_of_pages):\n",
    "                        if page < total_pages:\n",
    "                            pdf_writer.addPage(pdf_reader.getPage(page))\n",
    "                    output_file = f'{folder_path}/split_{i}-{i + num_of_pages}.pdf'\n",
    "                    \n",
    "                    with open(output_file, 'wb') as output:\n",
    "                        pdf_writer.write(output)\n",
    "                print(f\"PDF {pdf_file} is splitted and saved at {folder_path}\")\n",
    "                \n",
    "split_pdf()"
   ]
  },
  {
   "cell_type": "code",
   "execution_count": 7,
   "id": "b3866057",
   "metadata": {},
   "outputs": [],
   "source": [
    "import PyPDF2\n",
    "import docx\n",
    "import tkinter as tk\n",
    "from tkinter import filedialog"
   ]
  },
  {
   "cell_type": "code",
   "execution_count": 8,
   "id": "44abadff",
   "metadata": {},
   "outputs": [
    {
     "name": "stdout",
     "output_type": "stream",
     "text": [
      "PDF C:/Users/Ahad/Desktop/Abdul_Ahad.pdf is converted to docx and saved as C:/Users/Ahad/Desktop/plew.docx\n"
     ]
    }
   ],
   "source": [
    "def pdf_to_docx():\n",
    "    root = tk.Tk()\n",
    "    root.withdraw()\n",
    "    pdf_file = filedialog.askopenfilename(title = \"Select PDF file\", filetypes = ((\"PDF files\", \"*.pdf\"), (\"all files\", \"*.*\")))\n",
    "    \n",
    "    if pdf_file == '':\n",
    "        print(\"No file selected\")\n",
    "    \n",
    "    else:\n",
    "        docx_file = filedialog.asksaveasfilename(title = \"Save as\",defaultextension='.docx',filetypes = ((\"Word files\", \"*.docx\"), (\"all files\", \"*.*\")))\n",
    "        \n",
    "        if docx_file == '':\n",
    "            print(\"No file selected\")\n",
    "        \n",
    "        else:\n",
    "            # Open the pdf file\n",
    "            with open(pdf_file, 'rb') as file:\n",
    "                pdf_reader = PyPDF2.PdfFileReader(file)\n",
    "                text = \"\"\n",
    "                \n",
    "                for page in range(pdf_reader.numPages):\n",
    "                    text += pdf_reader.getPage(page).extractText()\n",
    "                doc = docx.Document()\n",
    "                doc.add_paragraph(text)\n",
    "                doc.save(docx_file)\n",
    "                print(f\"PDF {pdf_file} is converted to docx and saved as {docx_file}\")\n",
    "                \n",
    "pdf_to_docx()"
   ]
  },
  {
   "cell_type": "code",
   "execution_count": 12,
   "id": "b4595e76",
   "metadata": {},
   "outputs": [
    {
     "ename": "ImportError",
     "evalue": "MagickWand shared library not found.\nYou probably had not installed ImageMagick library.\nTry to install:\n  https://docs.wand-py.org/en/latest/guide/install.html#install-imagemagick-on-windows",
     "output_type": "error",
     "traceback": [
      "\u001b[1;31m---------------------------------------------------------------------------\u001b[0m",
      "\u001b[1;31mOSError\u001b[0m                                   Traceback (most recent call last)",
      "\u001b[1;32me:\\anaconda\\lib\\site-packages\\wand\\api.py\u001b[0m in \u001b[0;36m<module>\u001b[1;34m\u001b[0m\n\u001b[0;32m    153\u001b[0m \u001b[1;32mtry\u001b[0m\u001b[1;33m:\u001b[0m\u001b[1;33m\u001b[0m\u001b[1;33m\u001b[0m\u001b[0m\n\u001b[1;32m--> 154\u001b[1;33m     \u001b[0mlibraries\u001b[0m \u001b[1;33m=\u001b[0m \u001b[0mload_library\u001b[0m\u001b[1;33m(\u001b[0m\u001b[1;33m)\u001b[0m\u001b[1;33m\u001b[0m\u001b[1;33m\u001b[0m\u001b[0m\n\u001b[0m\u001b[0;32m    155\u001b[0m \u001b[1;32mexcept\u001b[0m \u001b[1;33m(\u001b[0m\u001b[0mOSError\u001b[0m\u001b[1;33m,\u001b[0m \u001b[0mIOError\u001b[0m\u001b[1;33m)\u001b[0m\u001b[1;33m:\u001b[0m\u001b[1;33m\u001b[0m\u001b[1;33m\u001b[0m\u001b[0m\n",
      "\u001b[1;32me:\\anaconda\\lib\\site-packages\\wand\\api.py\u001b[0m in \u001b[0;36mload_library\u001b[1;34m()\u001b[0m\n\u001b[0;32m    142\u001b[0m         \u001b[1;32mreturn\u001b[0m \u001b[0mlibwand\u001b[0m\u001b[1;33m,\u001b[0m \u001b[0mlibmagick\u001b[0m\u001b[1;33m\u001b[0m\u001b[1;33m\u001b[0m\u001b[0m\n\u001b[1;32m--> 143\u001b[1;33m     \u001b[1;32mraise\u001b[0m \u001b[0mIOError\u001b[0m\u001b[1;33m(\u001b[0m\u001b[1;34m'cannot find library; tried paths: '\u001b[0m \u001b[1;33m+\u001b[0m \u001b[0mrepr\u001b[0m\u001b[1;33m(\u001b[0m\u001b[0mtried_paths\u001b[0m\u001b[1;33m)\u001b[0m\u001b[1;33m)\u001b[0m\u001b[1;33m\u001b[0m\u001b[1;33m\u001b[0m\u001b[0m\n\u001b[0m\u001b[0;32m    144\u001b[0m \u001b[1;33m\u001b[0m\u001b[0m\n",
      "\u001b[1;31mOSError\u001b[0m: cannot find library; tried paths: []",
      "\nDuring handling of the above exception, another exception occurred:\n",
      "\u001b[1;31mImportError\u001b[0m                               Traceback (most recent call last)",
      "\u001b[1;32m~\\AppData\\Local\\Temp/ipykernel_4284/2942765072.py\u001b[0m in \u001b[0;36m<module>\u001b[1;34m\u001b[0m\n\u001b[1;32m----> 1\u001b[1;33m \u001b[1;32mfrom\u001b[0m \u001b[0mwand\u001b[0m\u001b[1;33m.\u001b[0m\u001b[0mimage\u001b[0m \u001b[1;32mimport\u001b[0m \u001b[0mImage\u001b[0m \u001b[1;32mas\u001b[0m \u001b[0mwi\u001b[0m\u001b[1;33m\u001b[0m\u001b[1;33m\u001b[0m\u001b[0m\n\u001b[0m\u001b[0;32m      2\u001b[0m \u001b[1;32mfrom\u001b[0m \u001b[0mPIL\u001b[0m \u001b[1;32mimport\u001b[0m \u001b[0mImage\u001b[0m\u001b[1;33m\u001b[0m\u001b[1;33m\u001b[0m\u001b[0m\n\u001b[0;32m      3\u001b[0m \u001b[1;32mimport\u001b[0m \u001b[0mpytesseract\u001b[0m\u001b[1;33m\u001b[0m\u001b[1;33m\u001b[0m\u001b[0m\n\u001b[0;32m      4\u001b[0m \u001b[1;32mimport\u001b[0m \u001b[0mdocx\u001b[0m\u001b[1;33m\u001b[0m\u001b[1;33m\u001b[0m\u001b[0m\n\u001b[0;32m      5\u001b[0m \u001b[1;32mimport\u001b[0m \u001b[0mtkinter\u001b[0m \u001b[1;32mas\u001b[0m \u001b[0mtk\u001b[0m\u001b[1;33m\u001b[0m\u001b[1;33m\u001b[0m\u001b[0m\n",
      "\u001b[1;32me:\\anaconda\\lib\\site-packages\\wand\\image.py\u001b[0m in \u001b[0;36m<module>\u001b[1;34m\u001b[0m\n\u001b[0;32m     16\u001b[0m \u001b[1;32mimport\u001b[0m \u001b[0mweakref\u001b[0m\u001b[1;33m\u001b[0m\u001b[1;33m\u001b[0m\u001b[0m\n\u001b[0;32m     17\u001b[0m \u001b[1;33m\u001b[0m\u001b[0m\n\u001b[1;32m---> 18\u001b[1;33m \u001b[1;32mfrom\u001b[0m \u001b[1;33m.\u001b[0m \u001b[1;32mimport\u001b[0m \u001b[0massertions\u001b[0m\u001b[1;33m\u001b[0m\u001b[1;33m\u001b[0m\u001b[0m\n\u001b[0m\u001b[0;32m     19\u001b[0m \u001b[1;32mfrom\u001b[0m \u001b[1;33m.\u001b[0m\u001b[0mapi\u001b[0m \u001b[1;32mimport\u001b[0m \u001b[0mlibc\u001b[0m\u001b[1;33m,\u001b[0m \u001b[0mlibmagick\u001b[0m\u001b[1;33m,\u001b[0m \u001b[0mlibrary\u001b[0m\u001b[1;33m\u001b[0m\u001b[1;33m\u001b[0m\u001b[0m\n\u001b[0;32m     20\u001b[0m \u001b[1;32mfrom\u001b[0m \u001b[1;33m.\u001b[0m\u001b[0mcolor\u001b[0m \u001b[1;32mimport\u001b[0m \u001b[0mColor\u001b[0m\u001b[1;33m\u001b[0m\u001b[1;33m\u001b[0m\u001b[0m\n",
      "\u001b[1;32me:\\anaconda\\lib\\site-packages\\wand\\assertions.py\u001b[0m in \u001b[0;36m<module>\u001b[1;34m\u001b[0m\n\u001b[0;32m    153\u001b[0m \u001b[1;33m\u001b[0m\u001b[0m\n\u001b[0;32m    154\u001b[0m \u001b[1;31m# Lazy load recursive import\u001b[0m\u001b[1;33m\u001b[0m\u001b[1;33m\u001b[0m\u001b[0m\n\u001b[1;32m--> 155\u001b[1;33m \u001b[1;32mfrom\u001b[0m \u001b[1;33m.\u001b[0m\u001b[0mcolor\u001b[0m \u001b[1;32mimport\u001b[0m \u001b[0mColor\u001b[0m  \u001b[1;31m# noqa: E402\u001b[0m\u001b[1;33m\u001b[0m\u001b[1;33m\u001b[0m\u001b[0m\n\u001b[0m",
      "\u001b[1;32me:\\anaconda\\lib\\site-packages\\wand\\color.py\u001b[0m in \u001b[0;36m<module>\u001b[1;34m\u001b[0m\n\u001b[0;32m      8\u001b[0m \u001b[1;32mimport\u001b[0m \u001b[0mnumbers\u001b[0m\u001b[1;33m\u001b[0m\u001b[1;33m\u001b[0m\u001b[0m\n\u001b[0;32m      9\u001b[0m \u001b[1;33m\u001b[0m\u001b[0m\n\u001b[1;32m---> 10\u001b[1;33m \u001b[1;32mfrom\u001b[0m \u001b[1;33m.\u001b[0m\u001b[0mapi\u001b[0m \u001b[1;32mimport\u001b[0m \u001b[0mlibrary\u001b[0m\u001b[1;33m\u001b[0m\u001b[1;33m\u001b[0m\u001b[0m\n\u001b[0m\u001b[0;32m     11\u001b[0m \u001b[1;32mfrom\u001b[0m \u001b[1;33m.\u001b[0m\u001b[0mcdefs\u001b[0m\u001b[1;33m.\u001b[0m\u001b[0mstructures\u001b[0m \u001b[1;32mimport\u001b[0m \u001b[0mMagickPixelPacket\u001b[0m\u001b[1;33m,\u001b[0m \u001b[0mPixelInfo\u001b[0m\u001b[1;33m\u001b[0m\u001b[1;33m\u001b[0m\u001b[0m\n\u001b[0;32m     12\u001b[0m \u001b[1;32mfrom\u001b[0m \u001b[1;33m.\u001b[0m\u001b[0mcompat\u001b[0m \u001b[1;32mimport\u001b[0m \u001b[0mbinary\u001b[0m\u001b[1;33m,\u001b[0m \u001b[0mtext\u001b[0m\u001b[1;33m\u001b[0m\u001b[1;33m\u001b[0m\u001b[0m\n",
      "\u001b[1;32me:\\anaconda\\lib\\site-packages\\wand\\api.py\u001b[0m in \u001b[0;36m<module>\u001b[1;34m\u001b[0m\n\u001b[0;32m    176\u001b[0m         \u001b[1;32melif\u001b[0m \u001b[0mdistname\u001b[0m \u001b[1;32min\u001b[0m \u001b[1;33m(\u001b[0m\u001b[1;34m'fedora'\u001b[0m\u001b[1;33m,\u001b[0m \u001b[1;34m'centos'\u001b[0m\u001b[1;33m,\u001b[0m \u001b[1;34m'redhat'\u001b[0m\u001b[1;33m)\u001b[0m\u001b[1;33m:\u001b[0m\u001b[1;33m\u001b[0m\u001b[1;33m\u001b[0m\u001b[0m\n\u001b[0;32m    177\u001b[0m             \u001b[0mmsg\u001b[0m \u001b[1;33m=\u001b[0m \u001b[1;34m'yum install ImageMagick-devel'\u001b[0m\u001b[1;33m\u001b[0m\u001b[1;33m\u001b[0m\u001b[0m\n\u001b[1;32m--> 178\u001b[1;33m     raise ImportError('MagickWand shared library not found.\\n'\n\u001b[0m\u001b[0;32m    179\u001b[0m                       \u001b[1;34m'You probably had not installed ImageMagick library.\\n'\u001b[0m\u001b[1;33m\u001b[0m\u001b[1;33m\u001b[0m\u001b[0m\n\u001b[0;32m    180\u001b[0m                       'Try to install:\\n  ' + msg)\n",
      "\u001b[1;31mImportError\u001b[0m: MagickWand shared library not found.\nYou probably had not installed ImageMagick library.\nTry to install:\n  https://docs.wand-py.org/en/latest/guide/install.html#install-imagemagick-on-windows"
     ]
    }
   ],
   "source": [
    "from wand.image import Image as wi\n",
    "from PIL import Image\n",
    "import pytesseract\n",
    "import docx\n",
    "import tkinter as tk\n",
    "from tkinter import filedialog\n",
    "\n",
    "def pdf_to_docx():\n",
    "    root = tk.Tk()\n",
    "    root.withdraw()\n",
    "    pdf_file = filedialog.askopenfilename(title = \"Select PDF file\", filetypes = ((\"PDF files\", \"*.pdf\"), (\"all files\", \"*.*\")))\n",
    "    if pdf_file =='':\n",
    "        print(\"No file selected\")\n",
    "    else:\n",
    "        docx_file = filedialog.asksaveasfilename(title = \"Save as\",defaultextension='.docx',filetypes = ((\"Word files\", \"*.docx\"), (\"all files\", \"*.*\")))\n",
    "        if docx_file =='':\n",
    "            print(\"No file selected\")\n",
    "        else:\n",
    "            with wi(filename=pdf_file, resolution=300) as img:\n",
    "                img.save(filename='temp.jpg')\n",
    "                with Image.open('temp.jpg') as img:\n",
    "                    text = pytesseract.image_to_string(img)\n",
    "                    doc = docx.Document()\n",
    "                    doc.add_paragraph(text)\n",
    "                    doc.save(docx_file)\n",
    "                    print(f\"PDF {pdf_file} is converted to docx and saved as {docx_file}\")\n",
    "                \n",
    "pdf_to_docx()"
   ]
  },
  {
   "cell_type": "code",
   "execution_count": null,
   "id": "f763fa95",
   "metadata": {},
   "outputs": [],
   "source": []
  }
 ],
 "metadata": {
  "kernelspec": {
   "display_name": "Python 3 (ipykernel)",
   "language": "python",
   "name": "python3"
  },
  "language_info": {
   "codemirror_mode": {
    "name": "ipython",
    "version": 3
   },
   "file_extension": ".py",
   "mimetype": "text/x-python",
   "name": "python",
   "nbconvert_exporter": "python",
   "pygments_lexer": "ipython3",
   "version": "3.9.7"
  }
 },
 "nbformat": 4,
 "nbformat_minor": 5
}
