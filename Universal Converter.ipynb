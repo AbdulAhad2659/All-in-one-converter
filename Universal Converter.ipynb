{
 "cells": [
  {
   "cell_type": "markdown",
   "id": "9623e929",
   "metadata": {},
   "source": [
    "# Remove background from images"
   ]
  },
  {
   "cell_type": "code",
   "execution_count": 14,
   "id": "6492a0d4",
   "metadata": {},
   "outputs": [
    {
     "name": "stdout",
     "output_type": "stream",
     "text": [
      "Foreground image saved to: C:/Users/Ahad/Desktop\\lol_foreground.jpg\n"
     ]
    }
   ],
   "source": [
    "import cv2\n",
    "import os\n",
    "import matplotlib.pyplot as plt\n",
    "import tkinter as tk\n",
    "from tkinter import filedialog\n",
    "\n",
    "def remove_background():\n",
    "    root = tk.Tk()\n",
    "    root.withdraw()\n",
    "    \n",
    "    # Open file dialog to select image file\n",
    "    file_path = filedialog.askopenfilename()\n",
    "    # Read the image\n",
    "    img = cv2.imread(file_path)\n",
    "    \n",
    "    # Convert image to grayscale\n",
    "    gray = cv2.cvtColor(img, cv2.COLOR_BGR2GRAY)\n",
    "    \n",
    "    # Apply thresholding to extract the foreground\n",
    "    # object (the hand)\n",
    "    ret, thresh = cv2.threshold(gray, 0, 255, cv2.THRESH_BINARY + cv2.THRESH_OTSU)\n",
    "    \n",
    "    # Remove the background\n",
    "    foreground = cv2.bitwise_and(img, img, mask=thresh)\n",
    "    \n",
    "    # Get the file name and directory of the original image\n",
    "    file_name, file_extension = os.path.splitext(os.path.basename(file_path))\n",
    "    directory = os.path.dirname(file_path)\n",
    "    \n",
    "    # Save the foreground image in the same directory\n",
    "    output_path = os.path.join(directory, file_name + \"_foreground\" + file_extension)\n",
    "    cv2.imwrite(output_path, foreground)\n",
    "    print(\"Foreground image saved to: \" + output_path)\n",
    "    \n",
    "remove_background()"
   ]
  },
  {
   "cell_type": "markdown",
   "id": "2a60d4c1",
   "metadata": {},
   "source": [
    "# Merge PDF files"
   ]
  },
  {
   "cell_type": "code",
   "execution_count": 25,
   "id": "02ab1d54",
   "metadata": {},
   "outputs": [
    {
     "name": "stdout",
     "output_type": "stream",
     "text": [
      "No files selected\n"
     ]
    }
   ],
   "source": [
    "import os\n",
    "from PyPDF2 import PdfFileMerger\n",
    "from tkinter import filedialog\n",
    "\n",
    "def merge_pdfs(output_file):\n",
    "    root = tk.Tk()\n",
    "    root.withdraw()\n",
    "    \n",
    "    #Select all the pdf files in the dialog to merge\n",
    "    pdf_files = filedialog.askopenfilenames(title = \"Select PDF files\", filetypes = ((\"PDF files\", \"*.pdf\"), (\"all files\", \"*.*\")))\n",
    "    \n",
    "    if len(pdf_files) == 0:\n",
    "        print(\"No files selected\")\n",
    "        \n",
    "    else:\n",
    "        # Create a pdf merger object\n",
    "        merger = PdfFileMerger()\n",
    "\n",
    "        # Iterate through all pdf files\n",
    "        for pdf_file in pdf_files:\n",
    "            \n",
    "            # Open each pdf file\n",
    "            with open(pdf_file, 'rb') as file:\n",
    "                \n",
    "                # Add the pdf file to the merger\n",
    "                merger.append(file)\n",
    "\n",
    "        # Write the merged pdf to the output file\n",
    "        with open(output_file, 'wb') as file:\n",
    "            merger.write(file)\n",
    "            \n",
    "        merger.close()\n",
    "        print(f\"PDFs merged successfully and saved as {output_file}\")\n",
    "        \n",
    "output_file = output_file = r'C:\\Users\\Ahad\\Desktop\\merged_pdf.pdf'\n",
    "merge_pdfs(output_file)"
   ]
  },
  {
   "cell_type": "markdown",
   "id": "8db9c7b7",
   "metadata": {},
   "source": [
    "# PDF to JPG"
   ]
  },
  {
   "cell_type": "code",
   "execution_count": 5,
   "id": "02805a4a",
   "metadata": {},
   "outputs": [],
   "source": [
    "from pdf2image import convert_from_path\n",
    "import tkinter as tk\n",
    "from tkinter import filedialog\n",
    "import os\n",
    "import fitz"
   ]
  },
  {
   "cell_type": "code",
   "execution_count": 6,
   "id": "b606dcdb",
   "metadata": {},
   "outputs": [
    {
     "name": "stdout",
     "output_type": "stream",
     "text": [
      "PDF C:/Users/Ahad/Desktop/Abdul_Ahad.pdf converted to jpeg and saved at C:/Users/Ahad/Desktop\n"
     ]
    }
   ],
   "source": [
    "def pdf_to_jpg():\n",
    "    root = tk.Tk()\n",
    "    root.withdraw()\n",
    "    pdf_file = filedialog.askopenfilename(title = \"Select PDF file\", filetypes = ((\"PDF files\", \"*.pdf\"), (\"all files\", \"*.*\")))\n",
    "    \n",
    "    if pdf_file == '':\n",
    "        print(\"No file selected\")\n",
    "        \n",
    "    else:\n",
    "        folder_path = filedialog.askdirectory(title = \"Select output folder\")\n",
    "        \n",
    "        if folder_path == '':\n",
    "            print(\"No folder selected\")\n",
    "            \n",
    "        else:\n",
    "            doc = fitz.open(pdf_file)\n",
    "            \n",
    "            for i in range(doc.page_count):\n",
    "                page = doc[i]\n",
    "                pix = page.get_pixmap()\n",
    "                output = f'{folder_path}/page_{i}.jpg'\n",
    "                pix.save(output)\n",
    "                \n",
    "            print(f\"PDF {pdf_file} converted to jpeg and saved at {folder_path}\")\n",
    "                    \n",
    "pdf_to_jpg()"
   ]
  },
  {
   "cell_type": "markdown",
   "id": "9e06a024",
   "metadata": {},
   "source": [
    "# JPG to PDF"
   ]
  },
  {
   "cell_type": "code",
   "execution_count": 7,
   "id": "afd83a24",
   "metadata": {},
   "outputs": [],
   "source": [
    "import tkinter as tk\n",
    "from PIL import Image\n",
    "from tkinter import filedialog"
   ]
  },
  {
   "cell_type": "code",
   "execution_count": 8,
   "id": "9287d25b",
   "metadata": {},
   "outputs": [
    {
     "name": "stdout",
     "output_type": "stream",
     "text": [
      "Image C:/Users/Ahad/Desktop/lol.png converted to pdf and saved as C:/Users/Ahad/Desktop/plew.pdf\n"
     ]
    }
   ],
   "source": [
    "def image_to_pdf():\n",
    "    root = tk.Tk()\n",
    "    root.withdraw()\n",
    "    image_file = filedialog.askopenfilename(title = \"Select image file\", filetypes = ((\"image files\", \"*.jpg;*.png;*.jpeg\"), (\"all files\", \"*.*\")))\n",
    "    \n",
    "    if image_file == '':\n",
    "        print(\"No file selected\")\n",
    "        \n",
    "    else:\n",
    "        pdf_file = filedialog.asksaveasfilename(title = \"Save as\",defaultextension='.pdf',filetypes = ((\"pdf files\", \"*.pdf\"), (\"all files\", \"*.*\")))\n",
    "        \n",
    "        if pdf_file =='':\n",
    "            print(\"No file selected\")\n",
    "            \n",
    "        else:\n",
    "            # Open the image file\n",
    "            with Image.open(image_file) as image:\n",
    "                \n",
    "                # Create a pdf object\n",
    "                pdf = Image.new(\"RGB\", image.size, (255, 255, 255))\n",
    "                pdf.paste(image, (0, 0))\n",
    "                \n",
    "                # Save the pdf\n",
    "                pdf.save(pdf_file, \"PDF\", resolution = 100.0)\n",
    "                print(f\"Image {image_file} converted to pdf and saved as {pdf_file}\")\n",
    "                \n",
    "image_to_pdf()"
   ]
  },
  {
   "cell_type": "code",
   "execution_count": null,
   "id": "cd374b29",
   "metadata": {},
   "outputs": [],
   "source": []
  }
 ],
 "metadata": {
  "kernelspec": {
   "display_name": "Python 3 (ipykernel)",
   "language": "python",
   "name": "python3"
  },
  "language_info": {
   "codemirror_mode": {
    "name": "ipython",
    "version": 3
   },
   "file_extension": ".py",
   "mimetype": "text/x-python",
   "name": "python",
   "nbconvert_exporter": "python",
   "pygments_lexer": "ipython3",
   "version": "3.9.7"
  }
 },
 "nbformat": 4,
 "nbformat_minor": 5
}
